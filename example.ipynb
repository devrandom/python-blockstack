{
 "cells": [
  {
   "cell_type": "code",
   "execution_count": 5,
   "metadata": {
    "collapsed": false,
    "scrolled": true
   },
   "outputs": [
    {
     "name": "stdout",
     "output_type": "stream",
     "text": [
      "dict_keys(['allBalances', 'balances', 'auth', 'id', 'netBalances', 'parent', 'base_uri', 'timeout', 'assetAddress', 'name', 'currentAddress', 'currentHeight'])\n",
      "ms9tDLTTqjQa7daCQHj39jjHdTU8AK4of3\n",
      "649\n"
     ]
    }
   ],
   "source": [
    "from blockstack.client import BlockstackClient\n",
    "client = BlockstackClient(base_uri='http://localhost:8080/api')\n",
    "alice = client.wallets.get('alice')\n",
    "print(alice.__dict__.keys())\n",
    "print(alice.currentAddress)\n",
    "print(alice.currentHeight)"
   ]
  }
 ],
 "metadata": {
  "kernelspec": {
   "display_name": "Python 3",
   "language": "python",
   "name": "python3"
  },
  "language_info": {
   "codemirror_mode": {
    "name": "ipython",
    "version": 3
   },
   "file_extension": ".py",
   "mimetype": "text/x-python",
   "name": "python",
   "nbconvert_exporter": "python",
   "pygments_lexer": "ipython3",
   "version": "3.4.2"
  }
 },
 "nbformat": 4,
 "nbformat_minor": 0
}
