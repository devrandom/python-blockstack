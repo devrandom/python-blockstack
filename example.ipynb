{
 "cells": [
  {
   "cell_type": "markdown",
   "metadata": {},
   "source": [
    "[![Build Status](https://travis-ci.org/devrandom/python-blockstack.svg?branch=master)](https://travis-ci.org/devrandom/python-blockstack)\n",
    "\n",
    "Blockstack API (https://blockstack.io/)\n",
    "\n",
    "## Examples"
   ]
  },
  {
   "cell_type": "code",
   "execution_count": 5,
   "metadata": {
    "collapsed": false
   },
   "outputs": [
    {
     "name": "stdout",
     "output_type": "stream",
     "text": [
      "dict_keys(['name', 'allBalances', 'currentAddress', 'auth', 'base_uri', 'id', 'transactions', 'currentHeight', 'parent', 'assetAddress', 'balances', 'timeout', 'netBalances'])\n",
      "ms9tDLTTqjQa7daCQHj39jjHdTU8AK4of3\n",
      "653\n"
     ]
    }
   ],
   "source": [
    "from blockstack.client import BlockstackClient\n",
    "client = BlockstackClient(base_uri='http://localhost:8080/api')\n",
    "alice = client.wallets.get('alice')\n",
    "bob = client.wallets.get('bob')\n",
    "print(alice.__dict__.keys())\n",
    "print(alice.currentAddress)\n",
    "print(alice.currentHeight)"
   ]
  },
  {
   "cell_type": "code",
   "execution_count": 6,
   "metadata": {
    "collapsed": false
   },
   "outputs": [
    {
     "name": "stdout",
     "output_type": "stream",
     "text": [
      "['1f5381760c56f89b0a35dd6ae5c4ee6a6fb0941f72a27c6fed786cf0829c31bb', '9d2fe8946d0d1575972f0c3181fbfdf22e5e411e1f96ab0e44302245ca510bac', '26b3af7a30f552e2af83d3052ea33a51664ccc3d7dd589d27d58daffadfab6ae', '820364378b7f75f26f77e640167aa1e5ccba9e46b92b977027f547bc6a116443', 'ab99b8b7531592bd3585f2c6c0293e8fe1f952f69558efe44b1ad569329b7272']\n"
     ]
    }
   ],
   "source": [
    "alice_txs = alice.transactions\n",
    "bob_txs = bob.transactions\n",
    "print([t.id for t in alice_txs.list()])\n",
    "partial = alice_txs.propose(atomic=True, asset='TRY', address=bob.assetAddress, amount=10000)\n",
    "complete = bob_txs.create(atomic=True, asset='USD', address=alice.assetAddress, amount=100, transaction=partial['transaction'])\n",
    "signed1 = alice_txs.sign(complete.id, complete.transaction)\n",
    "signed2 = bob_txs.sign(complete.id, signed1.transaction)\n",
    "committed = bob_txs.broadcast(complete.id, signed2.transaction)"
   ]
  },
  {
   "cell_type": "code",
   "execution_count": 18,
   "metadata": {
    "collapsed": false
   },
   "outputs": [
    {
     "name": "stdout",
     "output_type": "stream",
     "text": [
      "41a5b967732826d37768c588336b5e3ab5a0c4814885a0fb5b924f4dcd9324e2\n",
      "{'USD': 100, 'TRY': -10000, 'Tokens': -20287}\n"
     ]
    }
   ],
   "source": [
    "tx = alice_txs.get(committed.id)\n",
    "print(tx.id)\n",
    "print(tx.changes)"
   ]
  }
 ],
 "metadata": {
  "kernelspec": {
   "display_name": "Python 3",
   "language": "python",
   "name": "python3"
  },
  "language_info": {
   "codemirror_mode": {
    "name": "ipython",
    "version": 3
   },
   "file_extension": ".py",
   "mimetype": "text/x-python",
   "name": "python",
   "nbconvert_exporter": "python",
   "pygments_lexer": "ipython3",
   "version": "3.4.2"
  }
 },
 "nbformat": 4,
 "nbformat_minor": 0
}
